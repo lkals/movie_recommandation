{
 "cells": [
  {
   "cell_type": "markdown",
   "metadata": {
    "tags": []
   },
   "source": [
    "# Libraries"
   ]
  },
  {
   "cell_type": "code",
   "execution_count": 30,
   "metadata": {},
   "outputs": [],
   "source": [
    "# pyTorch\n",
    "import torch\n",
    "from torch import nn\n",
    "from torch.optim import Adam\n",
    "from torch.nn.functional import softmax\n",
    "import torch.optim as optim\n",
    "from torch.nn import MSELoss\n",
    "import torch.nn.functional as F\n",
    "\n",
    "# numpy\n",
    "import numpy as np\n",
    "\n",
    "# matplotlib\n",
    "%matplotlib inline\n",
    "import matplotlib.pyplot as plt\n",
    "\n",
    "# scikit-learn\n",
    "from sklearn.utils import shuffle\n",
    "from sklearn.model_selection import train_test_split\n",
    "from sklearn.preprocessing import LabelEncoder\n",
    "from sklearn.metrics import mean_squared_error\n",
    "from sklearn.preprocessing import MultiLabelBinarizer\n",
    "\n",
    "# pandas\n",
    "import pandas as pd\n",
    "\n",
    "# pickle\n",
    "import pickle\n",
    "\n",
    "# math\n",
    "import math\n",
    "\n",
    "# random\n",
    "import random\n"
   ]
  },
  {
   "cell_type": "markdown",
   "metadata": {
    "jp-MarkdownHeadingCollapsed": true,
    "tags": []
   },
   "source": [
    "# Récupération des données"
   ]
  },
  {
   "cell_type": "code",
   "execution_count": 2,
   "metadata": {},
   "outputs": [
    {
     "name": "stdout",
     "output_type": "stream",
     "text": [
      "Le nb de films :  528\n"
     ]
    }
   ],
   "source": [
    "with open('movie_ratings_500_id.pkl', 'rb') as file:\n",
    "    data = pickle.load(file)\n",
    "\n",
    "#On récupère les noms des films (les noms des films sont uniques car ce sont des clés de dictionnaires)\n",
    "liste_des_films = list(data.keys())\n",
    "nb_films = len(liste_des_films)\n",
    "\n",
    "print(\"Le nb de films : \",nb_films)"
   ]
  },
  {
   "cell_type": "markdown",
   "metadata": {},
   "source": [
    "On vérifie que chaque utilisateur a noté au plus une fois chaque film"
   ]
  },
  {
   "cell_type": "code",
   "execution_count": 3,
   "metadata": {},
   "outputs": [
    {
     "name": "stdout",
     "output_type": "stream",
     "text": [
      "Chaque utilisateur a noté au plus une fois chaque film\n"
     ]
    }
   ],
   "source": [
    "check = True\n",
    "for film in liste_des_films:\n",
    "    \n",
    "    unique_user_id = set()\n",
    "    for elem in  data[film]:\n",
    "        unique_user_id.add(elem['user_id'])\n",
    "        \n",
    "    if len(unique_user_id) < len(data[film]):\n",
    "        check = False       \n",
    "if check :     \n",
    "    print(\"Chaque utilisateur a noté au plus une fois chaque film\")"
   ]
  },
  {
   "cell_type": "markdown",
   "metadata": {},
   "source": [
    "On récupère les identifiants des utilisateurs "
   ]
  },
  {
   "cell_type": "code",
   "execution_count": 4,
   "metadata": {},
   "outputs": [
    {
     "name": "stdout",
     "output_type": "stream",
     "text": [
      "Le nb d'utilisateurs :  36968\n"
     ]
    }
   ],
   "source": [
    "liste_user_id = set() #on utilise un set pour ne pas avoir de doublons \n",
    "\n",
    "for film in liste_des_films:\n",
    "    for elem in  data[film]:\n",
    "        liste_user_id.add(elem['user_id'])\n",
    "        \n",
    "liste_user_id = list(liste_user_id)\n",
    "nb_user = len(liste_user_id)\n",
    "print(\"Le nb d'utilisateurs : \", nb_user)\n",
    "\n",
    "df = pd.DataFrame(index=liste_user_id, columns=liste_des_films)\n",
    "\n",
    "for film in liste_des_films:\n",
    "    for elem in data[film]:\n",
    "        user_id = elem['user_id']\n",
    "        note = int(elem['user_rating'])  \n",
    "        df.at[user_id, film] = note"
   ]
  },
  {
   "cell_type": "markdown",
   "metadata": {},
   "source": [
    "Si l'utilisateur n'a pas noté le film, on met la note à -1."
   ]
  },
  {
   "cell_type": "code",
   "execution_count": 5,
   "metadata": {},
   "outputs": [
    {
     "name": "stdout",
     "output_type": "stream",
     "text": [
      "0\n"
     ]
    }
   ],
   "source": [
    "df.fillna(-1, inplace=True) \n",
    "nb_note_manquante = (df.eq(-1)).sum().sum()\n",
    "nombre_user_ayant_note_aucun_film = df[df.eq(-1).all(axis=1)].shape[0]\n",
    "print(nombre_user_ayant_note_aucun_film) "
   ]
  },
  {
   "cell_type": "markdown",
   "metadata": {},
   "source": [
    "Tous les utilisateurs ont noté au moins un film"
   ]
  },
  {
   "cell_type": "markdown",
   "metadata": {},
   "source": [
    "On récupère les informations supplémentaires sur les films \n"
   ]
  },
  {
   "cell_type": "code",
   "execution_count": 6,
   "metadata": {},
   "outputs": [
    {
     "data": {
      "text/html": [
       "<div>\n",
       "<style scoped>\n",
       "    .dataframe tbody tr th:only-of-type {\n",
       "        vertical-align: middle;\n",
       "    }\n",
       "\n",
       "    .dataframe tbody tr th {\n",
       "        vertical-align: top;\n",
       "    }\n",
       "\n",
       "    .dataframe thead th {\n",
       "        text-align: right;\n",
       "    }\n",
       "</style>\n",
       "<table border=\"1\" class=\"dataframe\">\n",
       "  <thead>\n",
       "    <tr style=\"text-align: right;\">\n",
       "      <th></th>\n",
       "      <th>film</th>\n",
       "      <th>directeur</th>\n",
       "      <th>genres</th>\n",
       "      <th>acteurs</th>\n",
       "      <th>titre</th>\n",
       "    </tr>\n",
       "  </thead>\n",
       "  <tbody>\n",
       "    <tr>\n",
       "      <th>0</th>\n",
       "      <td>tt0305224</td>\n",
       "      <td>Peter Segal</td>\n",
       "      <td>[Comedy]</td>\n",
       "      <td>[Jack Nicholson, Adam Sandler, Marisa Tomei, W...</td>\n",
       "      <td>Anger Management</td>\n",
       "    </tr>\n",
       "    <tr>\n",
       "      <th>1</th>\n",
       "      <td>tt0245046</td>\n",
       "      <td>Gillian Armstrong</td>\n",
       "      <td>[Drama, Romance, Thriller]</td>\n",
       "      <td>[Cate Blanchett, James Fleet, Abigail Cruttenden]</td>\n",
       "      <td>Charlotte Gray</td>\n",
       "    </tr>\n",
       "    <tr>\n",
       "      <th>2</th>\n",
       "      <td>tt0185125</td>\n",
       "      <td>Pedro Almodóvar</td>\n",
       "      <td>[Drama]</td>\n",
       "      <td>[Cecilia Roth, Marisa Paredes, Candela Peña, P...</td>\n",
       "      <td>All About My Mother</td>\n",
       "    </tr>\n",
       "    <tr>\n",
       "      <th>3</th>\n",
       "      <td>tt0196229</td>\n",
       "      <td>Ben Stiller</td>\n",
       "      <td>[Comedy]</td>\n",
       "      <td>[Ben Stiller, Owen Wilson, Christine Taylor, W...</td>\n",
       "      <td>Zoolander</td>\n",
       "    </tr>\n",
       "    <tr>\n",
       "      <th>4</th>\n",
       "      <td>tt0308644</td>\n",
       "      <td>Marc Forster</td>\n",
       "      <td>[Biography, Drama, Family]</td>\n",
       "      <td>[Johnny Depp, Kate Winslet, Julie Christie, Du...</td>\n",
       "      <td>Finding Neverland</td>\n",
       "    </tr>\n",
       "    <tr>\n",
       "      <th>...</th>\n",
       "      <td>...</td>\n",
       "      <td>...</td>\n",
       "      <td>...</td>\n",
       "      <td>...</td>\n",
       "      <td>...</td>\n",
       "    </tr>\n",
       "    <tr>\n",
       "      <th>523</th>\n",
       "      <td>tt0203019</td>\n",
       "      <td>George Tillman Jr.</td>\n",
       "      <td>[Biography, Drama]</td>\n",
       "      <td>[Cuba Gooding Jr., Robert De Niro, Charlize Th...</td>\n",
       "      <td>Men of Honor</td>\n",
       "    </tr>\n",
       "    <tr>\n",
       "      <th>524</th>\n",
       "      <td>tt0169547</td>\n",
       "      <td>Sam Mendes</td>\n",
       "      <td>[Drama, Romance]</td>\n",
       "      <td>[Kevin Spacey, Annette Bening, Thora Birch, We...</td>\n",
       "      <td>American Beauty</td>\n",
       "    </tr>\n",
       "    <tr>\n",
       "      <th>525</th>\n",
       "      <td>tt0227538</td>\n",
       "      <td>Robert Rodriguez</td>\n",
       "      <td>[Action, Adventure, Comedy]</td>\n",
       "      <td>[Alexa PenaVega, Daryl Sabara, Antonio Banderas]</td>\n",
       "      <td>Spy Kids</td>\n",
       "    </tr>\n",
       "    <tr>\n",
       "      <th>526</th>\n",
       "      <td>tt0374536</td>\n",
       "      <td>Nora Ephron</td>\n",
       "      <td>[Comedy, Fantasy, Romance]</td>\n",
       "      <td>[Nicole Kidman, Will Ferrell, Shirley MacLaine...</td>\n",
       "      <td>Bewitched</td>\n",
       "    </tr>\n",
       "    <tr>\n",
       "      <th>527</th>\n",
       "      <td>tt0361862</td>\n",
       "      <td>Brad Anderson</td>\n",
       "      <td>[Drama, Thriller]</td>\n",
       "      <td>[Christian Bale, Jennifer Jason Leigh, Aitana ...</td>\n",
       "      <td>The Machinist</td>\n",
       "    </tr>\n",
       "  </tbody>\n",
       "</table>\n",
       "<p>528 rows × 5 columns</p>\n",
       "</div>"
      ],
      "text/plain": [
       "          film           directeur                       genres  \\\n",
       "0    tt0305224         Peter Segal                     [Comedy]   \n",
       "1    tt0245046   Gillian Armstrong   [Drama, Romance, Thriller]   \n",
       "2    tt0185125     Pedro Almodóvar                      [Drama]   \n",
       "3    tt0196229         Ben Stiller                     [Comedy]   \n",
       "4    tt0308644        Marc Forster   [Biography, Drama, Family]   \n",
       "..         ...                 ...                          ...   \n",
       "523  tt0203019  George Tillman Jr.           [Biography, Drama]   \n",
       "524  tt0169547          Sam Mendes             [Drama, Romance]   \n",
       "525  tt0227538    Robert Rodriguez  [Action, Adventure, Comedy]   \n",
       "526  tt0374536         Nora Ephron   [Comedy, Fantasy, Romance]   \n",
       "527  tt0361862       Brad Anderson            [Drama, Thriller]   \n",
       "\n",
       "                                               acteurs                titre  \n",
       "0    [Jack Nicholson, Adam Sandler, Marisa Tomei, W...     Anger Management  \n",
       "1    [Cate Blanchett, James Fleet, Abigail Cruttenden]       Charlotte Gray  \n",
       "2    [Cecilia Roth, Marisa Paredes, Candela Peña, P...  All About My Mother  \n",
       "3    [Ben Stiller, Owen Wilson, Christine Taylor, W...            Zoolander  \n",
       "4    [Johnny Depp, Kate Winslet, Julie Christie, Du...    Finding Neverland  \n",
       "..                                                 ...                  ...  \n",
       "523  [Cuba Gooding Jr., Robert De Niro, Charlize Th...         Men of Honor  \n",
       "524  [Kevin Spacey, Annette Bening, Thora Birch, We...      American Beauty  \n",
       "525   [Alexa PenaVega, Daryl Sabara, Antonio Banderas]             Spy Kids  \n",
       "526  [Nicole Kidman, Will Ferrell, Shirley MacLaine...            Bewitched  \n",
       "527  [Christian Bale, Jennifer Jason Leigh, Aitana ...        The Machinist  \n",
       "\n",
       "[528 rows x 5 columns]"
      ]
     },
     "execution_count": 6,
     "metadata": {},
     "output_type": "execute_result"
    }
   ],
   "source": [
    "with open('movie_metadata.pkl', 'rb') as file:\n",
    "    data1 = pickle.load(file)\n",
    "\n",
    "#On crée un dataframe avec 5 colonnes ('film', 'directeur', 'genre', 'acteurs', 'titre')\n",
    "\n",
    "df1 = pd.DataFrame.from_dict(data1, orient='index')\n",
    "df1.reset_index(inplace=True)\n",
    "df1.columns = ['film', 'directeur', 'genres', 'acteurs', 'titre']\n",
    "\n",
    "df1"
   ]
  },
  {
   "cell_type": "code",
   "execution_count": 7,
   "metadata": {},
   "outputs": [
    {
     "name": "stdout",
     "output_type": "stream",
     "text": [
      "[1, 2, 3]\n",
      "[2, 3, 4, 5, 6, 7, 8, 10, 11]\n"
     ]
    }
   ],
   "source": [
    "nb_genre_different_pour_un_meme_film = set()\n",
    "nb_acteurs_different_pour_un_meme_film = set()\n",
    "\n",
    "for i in range(528):\n",
    "    nb_genre_different_pour_un_meme_film.add(len(df1.iloc[i][2]))\n",
    "    nb_acteurs_different_pour_un_meme_film.add(len(df1.iloc[i][3]))\n",
    "    \n",
    "print(list(nb_genre_different_pour_un_meme_film))\n",
    "print(list(nb_acteurs_different_pour_un_meme_film))"
   ]
  },
  {
   "cell_type": "markdown",
   "metadata": {},
   "source": [
    "# Réseaux de neurones"
   ]
  },
  {
   "cell_type": "markdown",
   "metadata": {},
   "source": [
    "## Traitement des données"
   ]
  },
  {
   "cell_type": "markdown",
   "metadata": {},
   "source": [
    "On va créér un dataframe avec 3 colonnes (user_id,film,note)"
   ]
  },
  {
   "cell_type": "code",
   "execution_count": 8,
   "metadata": {},
   "outputs": [
    {
     "data": {
      "text/html": [
       "<div>\n",
       "<style scoped>\n",
       "    .dataframe tbody tr th:only-of-type {\n",
       "        vertical-align: middle;\n",
       "    }\n",
       "\n",
       "    .dataframe tbody tr th {\n",
       "        vertical-align: top;\n",
       "    }\n",
       "\n",
       "    .dataframe thead th {\n",
       "        text-align: right;\n",
       "    }\n",
       "</style>\n",
       "<table border=\"1\" class=\"dataframe\">\n",
       "  <thead>\n",
       "    <tr style=\"text-align: right;\">\n",
       "      <th></th>\n",
       "      <th>user_id</th>\n",
       "      <th>film</th>\n",
       "      <th>note</th>\n",
       "    </tr>\n",
       "  </thead>\n",
       "  <tbody>\n",
       "    <tr>\n",
       "      <th>0</th>\n",
       "      <td>946314</td>\n",
       "      <td>tt0305224</td>\n",
       "      <td>3</td>\n",
       "    </tr>\n",
       "    <tr>\n",
       "      <th>1</th>\n",
       "      <td>1825313</td>\n",
       "      <td>tt0305224</td>\n",
       "      <td>3</td>\n",
       "    </tr>\n",
       "    <tr>\n",
       "      <th>2</th>\n",
       "      <td>1437190</td>\n",
       "      <td>tt0305224</td>\n",
       "      <td>4</td>\n",
       "    </tr>\n",
       "    <tr>\n",
       "      <th>3</th>\n",
       "      <td>1857486</td>\n",
       "      <td>tt0305224</td>\n",
       "      <td>4</td>\n",
       "    </tr>\n",
       "    <tr>\n",
       "      <th>4</th>\n",
       "      <td>994483</td>\n",
       "      <td>tt0305224</td>\n",
       "      <td>3</td>\n",
       "    </tr>\n",
       "  </tbody>\n",
       "</table>\n",
       "</div>"
      ],
      "text/plain": [
       "   user_id       film  note\n",
       "0   946314  tt0305224     3\n",
       "1  1825313  tt0305224     3\n",
       "2  1437190  tt0305224     4\n",
       "3  1857486  tt0305224     4\n",
       "4   994483  tt0305224     3"
      ]
     },
     "execution_count": 8,
     "metadata": {},
     "output_type": "execute_result"
    }
   ],
   "source": [
    "# On réinitialise l'index pour obtenir une colonne 'user_id'\n",
    "df_pour_reseau = df.copy()\n",
    "df_pour_reseau.reset_index(inplace=True)\n",
    "df_pour_reseau.rename(columns={'index': 'user_id'}, inplace=True)\n",
    "\n",
    "# On convertit le DataFrame \n",
    "df_pour_reseau = pd.melt(df_pour_reseau, id_vars=['user_id'], var_name='film', value_name='note')\n",
    "\n",
    "# On ne garde que les notes différente de -1 càd les notes représentant un visionage \n",
    "df_pour_reseau = df_pour_reseau[df_pour_reseau['note'] != -1]\n",
    "\n",
    "df_pour_reseau = df_pour_reseau.reset_index(drop=True)\n",
    "\n",
    "df_pour_reseau.head()"
   ]
  },
  {
   "cell_type": "markdown",
   "metadata": {},
   "source": [
    "On veut aussi prendre en compte les informations supplémentaires sur les films\n",
    "Pour cela, on va faire une jointure entre df_pour_reseau et df1 sur la colonne 'film'"
   ]
  },
  {
   "cell_type": "code",
   "execution_count": 9,
   "metadata": {},
   "outputs": [
    {
     "data": {
      "text/html": [
       "<div>\n",
       "<style scoped>\n",
       "    .dataframe tbody tr th:only-of-type {\n",
       "        vertical-align: middle;\n",
       "    }\n",
       "\n",
       "    .dataframe tbody tr th {\n",
       "        vertical-align: top;\n",
       "    }\n",
       "\n",
       "    .dataframe thead th {\n",
       "        text-align: right;\n",
       "    }\n",
       "</style>\n",
       "<table border=\"1\" class=\"dataframe\">\n",
       "  <thead>\n",
       "    <tr style=\"text-align: right;\">\n",
       "      <th></th>\n",
       "      <th>user_id</th>\n",
       "      <th>film</th>\n",
       "      <th>note</th>\n",
       "      <th>directeur</th>\n",
       "      <th>genres</th>\n",
       "      <th>acteurs</th>\n",
       "      <th>titre</th>\n",
       "    </tr>\n",
       "  </thead>\n",
       "  <tbody>\n",
       "    <tr>\n",
       "      <th>0</th>\n",
       "      <td>946314</td>\n",
       "      <td>tt0305224</td>\n",
       "      <td>3</td>\n",
       "      <td>Peter Segal</td>\n",
       "      <td>[Comedy]</td>\n",
       "      <td>[Jack Nicholson, Adam Sandler, Marisa Tomei, W...</td>\n",
       "      <td>Anger Management</td>\n",
       "    </tr>\n",
       "    <tr>\n",
       "      <th>1</th>\n",
       "      <td>1825313</td>\n",
       "      <td>tt0305224</td>\n",
       "      <td>3</td>\n",
       "      <td>Peter Segal</td>\n",
       "      <td>[Comedy]</td>\n",
       "      <td>[Jack Nicholson, Adam Sandler, Marisa Tomei, W...</td>\n",
       "      <td>Anger Management</td>\n",
       "    </tr>\n",
       "    <tr>\n",
       "      <th>2</th>\n",
       "      <td>1437190</td>\n",
       "      <td>tt0305224</td>\n",
       "      <td>4</td>\n",
       "      <td>Peter Segal</td>\n",
       "      <td>[Comedy]</td>\n",
       "      <td>[Jack Nicholson, Adam Sandler, Marisa Tomei, W...</td>\n",
       "      <td>Anger Management</td>\n",
       "    </tr>\n",
       "    <tr>\n",
       "      <th>3</th>\n",
       "      <td>1857486</td>\n",
       "      <td>tt0305224</td>\n",
       "      <td>4</td>\n",
       "      <td>Peter Segal</td>\n",
       "      <td>[Comedy]</td>\n",
       "      <td>[Jack Nicholson, Adam Sandler, Marisa Tomei, W...</td>\n",
       "      <td>Anger Management</td>\n",
       "    </tr>\n",
       "    <tr>\n",
       "      <th>4</th>\n",
       "      <td>994483</td>\n",
       "      <td>tt0305224</td>\n",
       "      <td>3</td>\n",
       "      <td>Peter Segal</td>\n",
       "      <td>[Comedy]</td>\n",
       "      <td>[Jack Nicholson, Adam Sandler, Marisa Tomei, W...</td>\n",
       "      <td>Anger Management</td>\n",
       "    </tr>\n",
       "  </tbody>\n",
       "</table>\n",
       "</div>"
      ],
      "text/plain": [
       "   user_id       film  note    directeur    genres  \\\n",
       "0   946314  tt0305224     3  Peter Segal  [Comedy]   \n",
       "1  1825313  tt0305224     3  Peter Segal  [Comedy]   \n",
       "2  1437190  tt0305224     4  Peter Segal  [Comedy]   \n",
       "3  1857486  tt0305224     4  Peter Segal  [Comedy]   \n",
       "4   994483  tt0305224     3  Peter Segal  [Comedy]   \n",
       "\n",
       "                                             acteurs             titre  \n",
       "0  [Jack Nicholson, Adam Sandler, Marisa Tomei, W...  Anger Management  \n",
       "1  [Jack Nicholson, Adam Sandler, Marisa Tomei, W...  Anger Management  \n",
       "2  [Jack Nicholson, Adam Sandler, Marisa Tomei, W...  Anger Management  \n",
       "3  [Jack Nicholson, Adam Sandler, Marisa Tomei, W...  Anger Management  \n",
       "4  [Jack Nicholson, Adam Sandler, Marisa Tomei, W...  Anger Management  "
      ]
     },
     "execution_count": 9,
     "metadata": {},
     "output_type": "execute_result"
    }
   ],
   "source": [
    "df_pour_reseau = pd.merge(df_pour_reseau, df1, on='film', how='inner')\n",
    "df_pour_reseau.head()"
   ]
  },
  {
   "cell_type": "markdown",
   "metadata": {},
   "source": [
    "Les valeurs contenues dans les colonnes genres et acteurs sont des listes de valeurs.  \n",
    "Pour faciliter le traitement avec les réseaux de neurones :  \n",
    "on attribue 1 si le film appartient à un genre et 0 sinon.  \n",
    "On fait pareil pour les acteurs. "
   ]
  },
  {
   "cell_type": "code",
   "execution_count": 10,
   "metadata": {},
   "outputs": [
    {
     "data": {
      "text/html": [
       "<div>\n",
       "<style scoped>\n",
       "    .dataframe tbody tr th:only-of-type {\n",
       "        vertical-align: middle;\n",
       "    }\n",
       "\n",
       "    .dataframe tbody tr th {\n",
       "        vertical-align: top;\n",
       "    }\n",
       "\n",
       "    .dataframe thead th {\n",
       "        text-align: right;\n",
       "    }\n",
       "</style>\n",
       "<table border=\"1\" class=\"dataframe\">\n",
       "  <thead>\n",
       "    <tr style=\"text-align: right;\">\n",
       "      <th></th>\n",
       "      <th>Action</th>\n",
       "      <th>Adventure</th>\n",
       "      <th>Animation</th>\n",
       "      <th>Biography</th>\n",
       "      <th>Comedy</th>\n",
       "      <th>Crime</th>\n",
       "      <th>Drama</th>\n",
       "      <th>Family</th>\n",
       "      <th>Fantasy</th>\n",
       "      <th>History</th>\n",
       "      <th>Horror</th>\n",
       "      <th>Music</th>\n",
       "      <th>Musical</th>\n",
       "      <th>Mystery</th>\n",
       "      <th>Romance</th>\n",
       "      <th>Sci-Fi</th>\n",
       "      <th>Sport</th>\n",
       "      <th>Thriller</th>\n",
       "      <th>War</th>\n",
       "      <th>Western</th>\n",
       "    </tr>\n",
       "  </thead>\n",
       "  <tbody>\n",
       "    <tr>\n",
       "      <th>0</th>\n",
       "      <td>0</td>\n",
       "      <td>0</td>\n",
       "      <td>0</td>\n",
       "      <td>0</td>\n",
       "      <td>1</td>\n",
       "      <td>0</td>\n",
       "      <td>0</td>\n",
       "      <td>0</td>\n",
       "      <td>0</td>\n",
       "      <td>0</td>\n",
       "      <td>0</td>\n",
       "      <td>0</td>\n",
       "      <td>0</td>\n",
       "      <td>0</td>\n",
       "      <td>0</td>\n",
       "      <td>0</td>\n",
       "      <td>0</td>\n",
       "      <td>0</td>\n",
       "      <td>0</td>\n",
       "      <td>0</td>\n",
       "    </tr>\n",
       "    <tr>\n",
       "      <th>1</th>\n",
       "      <td>0</td>\n",
       "      <td>0</td>\n",
       "      <td>0</td>\n",
       "      <td>0</td>\n",
       "      <td>1</td>\n",
       "      <td>0</td>\n",
       "      <td>0</td>\n",
       "      <td>0</td>\n",
       "      <td>0</td>\n",
       "      <td>0</td>\n",
       "      <td>0</td>\n",
       "      <td>0</td>\n",
       "      <td>0</td>\n",
       "      <td>0</td>\n",
       "      <td>0</td>\n",
       "      <td>0</td>\n",
       "      <td>0</td>\n",
       "      <td>0</td>\n",
       "      <td>0</td>\n",
       "      <td>0</td>\n",
       "    </tr>\n",
       "    <tr>\n",
       "      <th>2</th>\n",
       "      <td>0</td>\n",
       "      <td>0</td>\n",
       "      <td>0</td>\n",
       "      <td>0</td>\n",
       "      <td>1</td>\n",
       "      <td>0</td>\n",
       "      <td>0</td>\n",
       "      <td>0</td>\n",
       "      <td>0</td>\n",
       "      <td>0</td>\n",
       "      <td>0</td>\n",
       "      <td>0</td>\n",
       "      <td>0</td>\n",
       "      <td>0</td>\n",
       "      <td>0</td>\n",
       "      <td>0</td>\n",
       "      <td>0</td>\n",
       "      <td>0</td>\n",
       "      <td>0</td>\n",
       "      <td>0</td>\n",
       "    </tr>\n",
       "    <tr>\n",
       "      <th>3</th>\n",
       "      <td>0</td>\n",
       "      <td>0</td>\n",
       "      <td>0</td>\n",
       "      <td>0</td>\n",
       "      <td>1</td>\n",
       "      <td>0</td>\n",
       "      <td>0</td>\n",
       "      <td>0</td>\n",
       "      <td>0</td>\n",
       "      <td>0</td>\n",
       "      <td>0</td>\n",
       "      <td>0</td>\n",
       "      <td>0</td>\n",
       "      <td>0</td>\n",
       "      <td>0</td>\n",
       "      <td>0</td>\n",
       "      <td>0</td>\n",
       "      <td>0</td>\n",
       "      <td>0</td>\n",
       "      <td>0</td>\n",
       "    </tr>\n",
       "    <tr>\n",
       "      <th>4</th>\n",
       "      <td>0</td>\n",
       "      <td>0</td>\n",
       "      <td>0</td>\n",
       "      <td>0</td>\n",
       "      <td>1</td>\n",
       "      <td>0</td>\n",
       "      <td>0</td>\n",
       "      <td>0</td>\n",
       "      <td>0</td>\n",
       "      <td>0</td>\n",
       "      <td>0</td>\n",
       "      <td>0</td>\n",
       "      <td>0</td>\n",
       "      <td>0</td>\n",
       "      <td>0</td>\n",
       "      <td>0</td>\n",
       "      <td>0</td>\n",
       "      <td>0</td>\n",
       "      <td>0</td>\n",
       "      <td>0</td>\n",
       "    </tr>\n",
       "  </tbody>\n",
       "</table>\n",
       "</div>"
      ],
      "text/plain": [
       "   Action  Adventure  Animation  Biography  Comedy  Crime  Drama  Family  \\\n",
       "0       0          0          0          0       1      0      0       0   \n",
       "1       0          0          0          0       1      0      0       0   \n",
       "2       0          0          0          0       1      0      0       0   \n",
       "3       0          0          0          0       1      0      0       0   \n",
       "4       0          0          0          0       1      0      0       0   \n",
       "\n",
       "   Fantasy  History  Horror  Music  Musical  Mystery  Romance  Sci-Fi  Sport  \\\n",
       "0        0        0       0      0        0        0        0       0      0   \n",
       "1        0        0       0      0        0        0        0       0      0   \n",
       "2        0        0       0      0        0        0        0       0      0   \n",
       "3        0        0       0      0        0        0        0       0      0   \n",
       "4        0        0       0      0        0        0        0       0      0   \n",
       "\n",
       "   Thriller  War  Western  \n",
       "0         0    0        0  \n",
       "1         0    0        0  \n",
       "2         0    0        0  \n",
       "3         0    0        0  \n",
       "4         0    0        0  "
      ]
     },
     "execution_count": 10,
     "metadata": {},
     "output_type": "execute_result"
    }
   ],
   "source": [
    "mlbg = MultiLabelBinarizer()\n",
    "genres_encoded = mlbg.fit_transform(df_pour_reseau['genres'])\n",
    "df_genres = pd.DataFrame(genres_encoded, columns=mlbg.classes_)\n",
    "\n",
    "mlba = MultiLabelBinarizer()\n",
    "acteurs_encoded = mlba.fit_transform(df_pour_reseau['acteurs'])\n",
    "df_acteurs = pd.DataFrame(acteurs_encoded, columns=mlba.classes_)\n",
    "\n",
    "liste_genres = mlbg.classes_\n",
    "liste_acteurs = mlba.classes_\n",
    "\n",
    "df_genres.head()"
   ]
  },
  {
   "cell_type": "markdown",
   "metadata": {},
   "source": [
    "On concatène les DataFrames encodés avec le DataFrame d'origine"
   ]
  },
  {
   "cell_type": "code",
   "execution_count": 11,
   "metadata": {},
   "outputs": [
    {
     "data": {
      "text/html": [
       "<div>\n",
       "<style scoped>\n",
       "    .dataframe tbody tr th:only-of-type {\n",
       "        vertical-align: middle;\n",
       "    }\n",
       "\n",
       "    .dataframe tbody tr th {\n",
       "        vertical-align: top;\n",
       "    }\n",
       "\n",
       "    .dataframe thead th {\n",
       "        text-align: right;\n",
       "    }\n",
       "</style>\n",
       "<table border=\"1\" class=\"dataframe\">\n",
       "  <thead>\n",
       "    <tr style=\"text-align: right;\">\n",
       "      <th></th>\n",
       "      <th>user_id</th>\n",
       "      <th>film</th>\n",
       "      <th>directeur</th>\n",
       "      <th>titre</th>\n",
       "      <th>Action</th>\n",
       "      <th>Adventure</th>\n",
       "      <th>Animation</th>\n",
       "      <th>Biography</th>\n",
       "      <th>Comedy</th>\n",
       "      <th>Crime</th>\n",
       "      <th>...</th>\n",
       "      <th>William Hurt</th>\n",
       "      <th>William Shatner</th>\n",
       "      <th>Winona Ryder</th>\n",
       "      <th>Wood Harris</th>\n",
       "      <th>Woody Allen</th>\n",
       "      <th>Woody Harrelson</th>\n",
       "      <th>Yoshihiko Hakamada</th>\n",
       "      <th>Yun-Fat Chow</th>\n",
       "      <th>Zach Braff</th>\n",
       "      <th>note</th>\n",
       "    </tr>\n",
       "  </thead>\n",
       "  <tbody>\n",
       "    <tr>\n",
       "      <th>0</th>\n",
       "      <td>946314</td>\n",
       "      <td>tt0305224</td>\n",
       "      <td>Peter Segal</td>\n",
       "      <td>Anger Management</td>\n",
       "      <td>0</td>\n",
       "      <td>0</td>\n",
       "      <td>0</td>\n",
       "      <td>0</td>\n",
       "      <td>1</td>\n",
       "      <td>0</td>\n",
       "      <td>...</td>\n",
       "      <td>0</td>\n",
       "      <td>0</td>\n",
       "      <td>0</td>\n",
       "      <td>0</td>\n",
       "      <td>0</td>\n",
       "      <td>1</td>\n",
       "      <td>0</td>\n",
       "      <td>0</td>\n",
       "      <td>0</td>\n",
       "      <td>3</td>\n",
       "    </tr>\n",
       "    <tr>\n",
       "      <th>1</th>\n",
       "      <td>1825313</td>\n",
       "      <td>tt0305224</td>\n",
       "      <td>Peter Segal</td>\n",
       "      <td>Anger Management</td>\n",
       "      <td>0</td>\n",
       "      <td>0</td>\n",
       "      <td>0</td>\n",
       "      <td>0</td>\n",
       "      <td>1</td>\n",
       "      <td>0</td>\n",
       "      <td>...</td>\n",
       "      <td>0</td>\n",
       "      <td>0</td>\n",
       "      <td>0</td>\n",
       "      <td>0</td>\n",
       "      <td>0</td>\n",
       "      <td>1</td>\n",
       "      <td>0</td>\n",
       "      <td>0</td>\n",
       "      <td>0</td>\n",
       "      <td>3</td>\n",
       "    </tr>\n",
       "    <tr>\n",
       "      <th>2</th>\n",
       "      <td>1437190</td>\n",
       "      <td>tt0305224</td>\n",
       "      <td>Peter Segal</td>\n",
       "      <td>Anger Management</td>\n",
       "      <td>0</td>\n",
       "      <td>0</td>\n",
       "      <td>0</td>\n",
       "      <td>0</td>\n",
       "      <td>1</td>\n",
       "      <td>0</td>\n",
       "      <td>...</td>\n",
       "      <td>0</td>\n",
       "      <td>0</td>\n",
       "      <td>0</td>\n",
       "      <td>0</td>\n",
       "      <td>0</td>\n",
       "      <td>1</td>\n",
       "      <td>0</td>\n",
       "      <td>0</td>\n",
       "      <td>0</td>\n",
       "      <td>4</td>\n",
       "    </tr>\n",
       "    <tr>\n",
       "      <th>3</th>\n",
       "      <td>1857486</td>\n",
       "      <td>tt0305224</td>\n",
       "      <td>Peter Segal</td>\n",
       "      <td>Anger Management</td>\n",
       "      <td>0</td>\n",
       "      <td>0</td>\n",
       "      <td>0</td>\n",
       "      <td>0</td>\n",
       "      <td>1</td>\n",
       "      <td>0</td>\n",
       "      <td>...</td>\n",
       "      <td>0</td>\n",
       "      <td>0</td>\n",
       "      <td>0</td>\n",
       "      <td>0</td>\n",
       "      <td>0</td>\n",
       "      <td>1</td>\n",
       "      <td>0</td>\n",
       "      <td>0</td>\n",
       "      <td>0</td>\n",
       "      <td>4</td>\n",
       "    </tr>\n",
       "    <tr>\n",
       "      <th>4</th>\n",
       "      <td>994483</td>\n",
       "      <td>tt0305224</td>\n",
       "      <td>Peter Segal</td>\n",
       "      <td>Anger Management</td>\n",
       "      <td>0</td>\n",
       "      <td>0</td>\n",
       "      <td>0</td>\n",
       "      <td>0</td>\n",
       "      <td>1</td>\n",
       "      <td>0</td>\n",
       "      <td>...</td>\n",
       "      <td>0</td>\n",
       "      <td>0</td>\n",
       "      <td>0</td>\n",
       "      <td>0</td>\n",
       "      <td>0</td>\n",
       "      <td>1</td>\n",
       "      <td>0</td>\n",
       "      <td>0</td>\n",
       "      <td>0</td>\n",
       "      <td>3</td>\n",
       "    </tr>\n",
       "  </tbody>\n",
       "</table>\n",
       "<p>5 rows × 770 columns</p>\n",
       "</div>"
      ],
      "text/plain": [
       "   user_id       film    directeur             titre  Action  Adventure  \\\n",
       "0   946314  tt0305224  Peter Segal  Anger Management       0          0   \n",
       "1  1825313  tt0305224  Peter Segal  Anger Management       0          0   \n",
       "2  1437190  tt0305224  Peter Segal  Anger Management       0          0   \n",
       "3  1857486  tt0305224  Peter Segal  Anger Management       0          0   \n",
       "4   994483  tt0305224  Peter Segal  Anger Management       0          0   \n",
       "\n",
       "   Animation  Biography  Comedy  Crime  ...  William Hurt  William Shatner  \\\n",
       "0          0          0       1      0  ...             0                0   \n",
       "1          0          0       1      0  ...             0                0   \n",
       "2          0          0       1      0  ...             0                0   \n",
       "3          0          0       1      0  ...             0                0   \n",
       "4          0          0       1      0  ...             0                0   \n",
       "\n",
       "   Winona Ryder  Wood Harris  Woody Allen  Woody Harrelson  \\\n",
       "0             0            0            0                1   \n",
       "1             0            0            0                1   \n",
       "2             0            0            0                1   \n",
       "3             0            0            0                1   \n",
       "4             0            0            0                1   \n",
       "\n",
       "   Yoshihiko Hakamada  Yun-Fat Chow  Zach Braff  note  \n",
       "0                   0             0           0     3  \n",
       "1                   0             0           0     3  \n",
       "2                   0             0           0     4  \n",
       "3                   0             0           0     4  \n",
       "4                   0             0           0     3  \n",
       "\n",
       "[5 rows x 770 columns]"
      ]
     },
     "execution_count": 11,
     "metadata": {},
     "output_type": "execute_result"
    }
   ],
   "source": [
    "df_pour_reseau = pd.concat([df_pour_reseau, df_genres, df_acteurs], axis=1)\n",
    "\n",
    "#On supprimer les colonnes originales 'genres' et 'acteurs' car on en a plus besoin\n",
    "df_pour_reseau.drop(['genres', 'acteurs'], axis=1, inplace=True)\n",
    "\n",
    "#On met la colonne note à la fin du dataframe \n",
    "colonne_note = df_pour_reseau.pop('note')\n",
    "df_pour_reseau['note'] = colonne_note\n",
    "\n",
    "df_pour_reseau.head()"
   ]
  },
  {
   "cell_type": "markdown",
   "metadata": {},
   "source": [
    "Les notes possibles sont 1,2,3,4 et 5"
   ]
  },
  {
   "cell_type": "code",
   "execution_count": 12,
   "metadata": {},
   "outputs": [
    {
     "data": {
      "text/plain": [
       "array([3, 4, 5, 1, 2])"
      ]
     },
     "execution_count": 12,
     "metadata": {},
     "output_type": "execute_result"
    }
   ],
   "source": [
    "notes_differentes_possibles = df_pour_reseau[\"note\"].unique()\n",
    "notes_differentes_possibles "
   ]
  },
  {
   "cell_type": "markdown",
   "metadata": {},
   "source": [
    "On récupère dans le dataframe la ligne qui corresponds à l'user_id = '1380819'  \n",
    "on ne garde que les films qu'il n'a pas vu càd note = -1 \n"
   ]
  },
  {
   "cell_type": "code",
   "execution_count": 13,
   "metadata": {},
   "outputs": [],
   "source": [
    "### Données pour prédire\n",
    "ligne_user = df.loc[df.index == '1380819']\n",
    "\n",
    "ligne_user = ligne_user.where(ligne_user == -1)\n",
    "ligne_user = ligne_user.dropna(axis=1, how='any')\n",
    "\n",
    "#on créer un dataframe avec 2 colonnes (user_id,film)\n",
    "ligne_user = ligne_user.reset_index()\n",
    "ligne_user = ligne_user.rename(columns={'index': 'user_id'})\n",
    "df_user = pd.melt(ligne_user, id_vars=['user_id'], var_name='film', value_name='note')\n",
    "df_user = df_user.drop(columns=['note'])"
   ]
  },
  {
   "cell_type": "markdown",
   "metadata": {},
   "source": [
    "### Les informations supplémentaires sur les films"
   ]
  },
  {
   "cell_type": "markdown",
   "metadata": {},
   "source": [
    "Pour cela, on va faire une jointure entre df_user et df1 sur la colonne 'film'"
   ]
  },
  {
   "cell_type": "code",
   "execution_count": 14,
   "metadata": {},
   "outputs": [
    {
     "data": {
      "text/html": [
       "<div>\n",
       "<style scoped>\n",
       "    .dataframe tbody tr th:only-of-type {\n",
       "        vertical-align: middle;\n",
       "    }\n",
       "\n",
       "    .dataframe tbody tr th {\n",
       "        vertical-align: top;\n",
       "    }\n",
       "\n",
       "    .dataframe thead th {\n",
       "        text-align: right;\n",
       "    }\n",
       "</style>\n",
       "<table border=\"1\" class=\"dataframe\">\n",
       "  <thead>\n",
       "    <tr style=\"text-align: right;\">\n",
       "      <th></th>\n",
       "      <th>user_id</th>\n",
       "      <th>film</th>\n",
       "      <th>directeur</th>\n",
       "      <th>genres</th>\n",
       "      <th>acteurs</th>\n",
       "      <th>titre</th>\n",
       "    </tr>\n",
       "  </thead>\n",
       "  <tbody>\n",
       "    <tr>\n",
       "      <th>0</th>\n",
       "      <td>1380819</td>\n",
       "      <td>tt0245046</td>\n",
       "      <td>Gillian Armstrong</td>\n",
       "      <td>[Drama, Romance, Thriller]</td>\n",
       "      <td>[Cate Blanchett, James Fleet, Abigail Cruttenden]</td>\n",
       "      <td>Charlotte Gray</td>\n",
       "    </tr>\n",
       "    <tr>\n",
       "      <th>1</th>\n",
       "      <td>1380819</td>\n",
       "      <td>tt0185125</td>\n",
       "      <td>Pedro Almodóvar</td>\n",
       "      <td>[Drama]</td>\n",
       "      <td>[Cecilia Roth, Marisa Paredes, Candela Peña, P...</td>\n",
       "      <td>All About My Mother</td>\n",
       "    </tr>\n",
       "    <tr>\n",
       "      <th>2</th>\n",
       "      <td>1380819</td>\n",
       "      <td>tt0308644</td>\n",
       "      <td>Marc Forster</td>\n",
       "      <td>[Biography, Drama, Family]</td>\n",
       "      <td>[Johnny Depp, Kate Winslet, Julie Christie, Du...</td>\n",
       "      <td>Finding Neverland</td>\n",
       "    </tr>\n",
       "    <tr>\n",
       "      <th>3</th>\n",
       "      <td>1380819</td>\n",
       "      <td>tt0282687</td>\n",
       "      <td>Stephen Herek</td>\n",
       "      <td>[Comedy, Romance]</td>\n",
       "      <td>[Angelina Jolie, Edward Burns, Tony Shalhoub, ...</td>\n",
       "      <td>Life or Something Like It</td>\n",
       "    </tr>\n",
       "    <tr>\n",
       "      <th>4</th>\n",
       "      <td>1380819</td>\n",
       "      <td>tt0128442</td>\n",
       "      <td>John Dahl</td>\n",
       "      <td>[Crime, Drama]</td>\n",
       "      <td>[Matt Damon, Edward Norton, Gretchen Mol, John...</td>\n",
       "      <td>Rounders</td>\n",
       "    </tr>\n",
       "  </tbody>\n",
       "</table>\n",
       "</div>"
      ],
      "text/plain": [
       "   user_id       film          directeur                      genres  \\\n",
       "0  1380819  tt0245046  Gillian Armstrong  [Drama, Romance, Thriller]   \n",
       "1  1380819  tt0185125    Pedro Almodóvar                     [Drama]   \n",
       "2  1380819  tt0308644       Marc Forster  [Biography, Drama, Family]   \n",
       "3  1380819  tt0282687      Stephen Herek           [Comedy, Romance]   \n",
       "4  1380819  tt0128442          John Dahl              [Crime, Drama]   \n",
       "\n",
       "                                             acteurs  \\\n",
       "0  [Cate Blanchett, James Fleet, Abigail Cruttenden]   \n",
       "1  [Cecilia Roth, Marisa Paredes, Candela Peña, P...   \n",
       "2  [Johnny Depp, Kate Winslet, Julie Christie, Du...   \n",
       "3  [Angelina Jolie, Edward Burns, Tony Shalhoub, ...   \n",
       "4  [Matt Damon, Edward Norton, Gretchen Mol, John...   \n",
       "\n",
       "                       titre  \n",
       "0             Charlotte Gray  \n",
       "1        All About My Mother  \n",
       "2          Finding Neverland  \n",
       "3  Life or Something Like It  \n",
       "4                   Rounders  "
      ]
     },
     "execution_count": 14,
     "metadata": {},
     "output_type": "execute_result"
    }
   ],
   "source": [
    "df_user = pd.merge(df_user, df1, on='film', how='inner')\n",
    "df_user.head()"
   ]
  },
  {
   "cell_type": "markdown",
   "metadata": {},
   "source": [
    "On encode les colonnes genres et acteurs que sur les données d'entrainement et de test"
   ]
  },
  {
   "cell_type": "markdown",
   "metadata": {},
   "source": [
    "**Les genres**"
   ]
  },
  {
   "cell_type": "code",
   "execution_count": 15,
   "metadata": {},
   "outputs": [],
   "source": [
    "mlbg1 = MultiLabelBinarizer()\n",
    "genres_encoded_user = mlbg1.fit_transform(df_user['genres'])\n",
    "df_genres_user = pd.DataFrame(genres_encoded_user, columns=mlbg1.classes_)\n",
    "\n",
    "    #Si on a bien le même nombre de genres que dans le dataframe d'entrainement \n",
    "if (len(liste_genres) != len(mlbg1.classes_)):\n",
    "    #On récupère les genres manquants\n",
    "    liste_genres_pour_user = mlbg1.classes_\n",
    "    genres_manquants = set(liste_genres) - set(liste_genres_pour_user)\n",
    "\n",
    "    #On crée un dataframe avec les colonnes de genres manquants remplies de zéros\n",
    "    df_genres_manquants = pd.DataFrame(0, columns=genres_manquants, index=df_genres_user.index)\n",
    "\n",
    "    #On concatène df_genres_user avec df_genres_manquants\n",
    "    df_genres_user = pd.concat([df_genres_user, df_genres_manquants], axis=1)\n",
    "    df_genres_user = df_genres_user.sort_index(axis=1)\n",
    "    \n",
    "    df_genres_user.head()"
   ]
  },
  {
   "cell_type": "markdown",
   "metadata": {},
   "source": [
    "**Les acteurs**"
   ]
  },
  {
   "cell_type": "code",
   "execution_count": 16,
   "metadata": {},
   "outputs": [
    {
     "data": {
      "text/html": [
       "<div>\n",
       "<style scoped>\n",
       "    .dataframe tbody tr th:only-of-type {\n",
       "        vertical-align: middle;\n",
       "    }\n",
       "\n",
       "    .dataframe tbody tr th {\n",
       "        vertical-align: top;\n",
       "    }\n",
       "\n",
       "    .dataframe thead th {\n",
       "        text-align: right;\n",
       "    }\n",
       "</style>\n",
       "<table border=\"1\" class=\"dataframe\">\n",
       "  <thead>\n",
       "    <tr style=\"text-align: right;\">\n",
       "      <th></th>\n",
       "      <th>user_id</th>\n",
       "      <th>film</th>\n",
       "      <th>directeur</th>\n",
       "      <th>titre</th>\n",
       "      <th>Action</th>\n",
       "      <th>Adventure</th>\n",
       "      <th>Animation</th>\n",
       "      <th>Biography</th>\n",
       "      <th>Comedy</th>\n",
       "      <th>Crime</th>\n",
       "      <th>...</th>\n",
       "      <th>William H. Macy</th>\n",
       "      <th>William Hurt</th>\n",
       "      <th>William Shatner</th>\n",
       "      <th>Winona Ryder</th>\n",
       "      <th>Wood Harris</th>\n",
       "      <th>Woody Allen</th>\n",
       "      <th>Woody Harrelson</th>\n",
       "      <th>Yoshihiko Hakamada</th>\n",
       "      <th>Yun-Fat Chow</th>\n",
       "      <th>Zach Braff</th>\n",
       "    </tr>\n",
       "  </thead>\n",
       "  <tbody>\n",
       "    <tr>\n",
       "      <th>0</th>\n",
       "      <td>1380819</td>\n",
       "      <td>tt0245046</td>\n",
       "      <td>Gillian Armstrong</td>\n",
       "      <td>Charlotte Gray</td>\n",
       "      <td>0</td>\n",
       "      <td>0</td>\n",
       "      <td>0</td>\n",
       "      <td>0</td>\n",
       "      <td>0</td>\n",
       "      <td>0</td>\n",
       "      <td>...</td>\n",
       "      <td>0</td>\n",
       "      <td>0</td>\n",
       "      <td>0</td>\n",
       "      <td>0</td>\n",
       "      <td>0</td>\n",
       "      <td>0</td>\n",
       "      <td>0</td>\n",
       "      <td>0</td>\n",
       "      <td>0</td>\n",
       "      <td>0</td>\n",
       "    </tr>\n",
       "    <tr>\n",
       "      <th>1</th>\n",
       "      <td>1380819</td>\n",
       "      <td>tt0185125</td>\n",
       "      <td>Pedro Almodóvar</td>\n",
       "      <td>All About My Mother</td>\n",
       "      <td>0</td>\n",
       "      <td>0</td>\n",
       "      <td>0</td>\n",
       "      <td>0</td>\n",
       "      <td>0</td>\n",
       "      <td>0</td>\n",
       "      <td>...</td>\n",
       "      <td>0</td>\n",
       "      <td>0</td>\n",
       "      <td>0</td>\n",
       "      <td>0</td>\n",
       "      <td>0</td>\n",
       "      <td>0</td>\n",
       "      <td>0</td>\n",
       "      <td>0</td>\n",
       "      <td>0</td>\n",
       "      <td>0</td>\n",
       "    </tr>\n",
       "    <tr>\n",
       "      <th>2</th>\n",
       "      <td>1380819</td>\n",
       "      <td>tt0308644</td>\n",
       "      <td>Marc Forster</td>\n",
       "      <td>Finding Neverland</td>\n",
       "      <td>0</td>\n",
       "      <td>0</td>\n",
       "      <td>0</td>\n",
       "      <td>1</td>\n",
       "      <td>0</td>\n",
       "      <td>0</td>\n",
       "      <td>...</td>\n",
       "      <td>0</td>\n",
       "      <td>0</td>\n",
       "      <td>0</td>\n",
       "      <td>0</td>\n",
       "      <td>0</td>\n",
       "      <td>0</td>\n",
       "      <td>0</td>\n",
       "      <td>0</td>\n",
       "      <td>0</td>\n",
       "      <td>0</td>\n",
       "    </tr>\n",
       "    <tr>\n",
       "      <th>3</th>\n",
       "      <td>1380819</td>\n",
       "      <td>tt0282687</td>\n",
       "      <td>Stephen Herek</td>\n",
       "      <td>Life or Something Like It</td>\n",
       "      <td>0</td>\n",
       "      <td>0</td>\n",
       "      <td>0</td>\n",
       "      <td>0</td>\n",
       "      <td>1</td>\n",
       "      <td>0</td>\n",
       "      <td>...</td>\n",
       "      <td>0</td>\n",
       "      <td>0</td>\n",
       "      <td>0</td>\n",
       "      <td>0</td>\n",
       "      <td>0</td>\n",
       "      <td>0</td>\n",
       "      <td>0</td>\n",
       "      <td>0</td>\n",
       "      <td>0</td>\n",
       "      <td>0</td>\n",
       "    </tr>\n",
       "    <tr>\n",
       "      <th>4</th>\n",
       "      <td>1380819</td>\n",
       "      <td>tt0128442</td>\n",
       "      <td>John Dahl</td>\n",
       "      <td>Rounders</td>\n",
       "      <td>0</td>\n",
       "      <td>0</td>\n",
       "      <td>0</td>\n",
       "      <td>0</td>\n",
       "      <td>0</td>\n",
       "      <td>1</td>\n",
       "      <td>...</td>\n",
       "      <td>0</td>\n",
       "      <td>0</td>\n",
       "      <td>0</td>\n",
       "      <td>0</td>\n",
       "      <td>0</td>\n",
       "      <td>0</td>\n",
       "      <td>0</td>\n",
       "      <td>0</td>\n",
       "      <td>0</td>\n",
       "      <td>0</td>\n",
       "    </tr>\n",
       "  </tbody>\n",
       "</table>\n",
       "<p>5 rows × 769 columns</p>\n",
       "</div>"
      ],
      "text/plain": [
       "   user_id       film          directeur                      titre  Action  \\\n",
       "0  1380819  tt0245046  Gillian Armstrong             Charlotte Gray       0   \n",
       "1  1380819  tt0185125    Pedro Almodóvar        All About My Mother       0   \n",
       "2  1380819  tt0308644       Marc Forster          Finding Neverland       0   \n",
       "3  1380819  tt0282687      Stephen Herek  Life or Something Like It       0   \n",
       "4  1380819  tt0128442          John Dahl                   Rounders       0   \n",
       "\n",
       "   Adventure  Animation  Biography  Comedy  Crime  ...  William H. Macy  \\\n",
       "0          0          0          0       0      0  ...                0   \n",
       "1          0          0          0       0      0  ...                0   \n",
       "2          0          0          1       0      0  ...                0   \n",
       "3          0          0          0       1      0  ...                0   \n",
       "4          0          0          0       0      1  ...                0   \n",
       "\n",
       "   William Hurt  William Shatner  Winona Ryder  Wood Harris  Woody Allen  \\\n",
       "0             0                0             0            0            0   \n",
       "1             0                0             0            0            0   \n",
       "2             0                0             0            0            0   \n",
       "3             0                0             0            0            0   \n",
       "4             0                0             0            0            0   \n",
       "\n",
       "   Woody Harrelson  Yoshihiko Hakamada  Yun-Fat Chow  Zach Braff  \n",
       "0                0                   0             0           0  \n",
       "1                0                   0             0           0  \n",
       "2                0                   0             0           0  \n",
       "3                0                   0             0           0  \n",
       "4                0                   0             0           0  \n",
       "\n",
       "[5 rows x 769 columns]"
      ]
     },
     "execution_count": 16,
     "metadata": {},
     "output_type": "execute_result"
    }
   ],
   "source": [
    "mlba1 = MultiLabelBinarizer()\n",
    "acteurs_encoded_user = mlba1.fit_transform(df_user['acteurs'])\n",
    "df_acteurs_user = pd.DataFrame(acteurs_encoded_user, columns=mlba1.classes_)\n",
    "\n",
    "if (len(liste_acteurs) != len(mlba1.classes_)):\n",
    "    #On récupère les acteurs manquants\n",
    "    liste_acteurs_pour_user = mlba1.classes_\n",
    "    acteurs_manquants = set(liste_acteurs) - set(liste_acteurs_pour_user)\n",
    "\n",
    "    #On crée un dataframe avec les colonnes d'acteurs manquants remplies de zéros\n",
    "    df_acteurs_manquants = pd.DataFrame(0, columns=list(acteurs_manquants), index=df_acteurs_user.index)\n",
    "\n",
    "    #On concatène df_acteurs_user avec df_acteurs_manquants\n",
    "    df_acteurs_user = pd.concat([df_acteurs_user, df_acteurs_manquants], axis=1)\n",
    "    df_acteurs_user = df_acteurs_user.sort_index(axis=1)\n",
    "    \n",
    "    df_acteurs_user.head()\n",
    "    \n",
    "#On concatène les DataFrames encodés avec le DataFrame d'origine\n",
    "df_user = pd.concat([df_user, df_genres_user, df_acteurs_user], axis=1)\n",
    "\n",
    "#On supprime les colonnes originales 'genres' et 'acteurs' car on en a plus besoin\n",
    "df_user.drop(['genres', 'acteurs'], axis=1, inplace=True)\n",
    "\n",
    "df_user.head()"
   ]
  },
  {
   "cell_type": "code",
   "execution_count": 17,
   "metadata": {},
   "outputs": [],
   "source": [
    "nb_film_non_vu_par_user,_ = df_user.shape"
   ]
  },
  {
   "cell_type": "markdown",
   "metadata": {},
   "source": [
    "## Encodage des données"
   ]
  },
  {
   "cell_type": "markdown",
   "metadata": {},
   "source": [
    "On concatène les données pour entrainer, tester et prédire afin qu'elles utilisent le meme encodage"
   ]
  },
  {
   "cell_type": "code",
   "execution_count": 32,
   "metadata": {},
   "outputs": [],
   "source": [
    "df_combined = pd.concat([df_pour_reseau.iloc[:, :-1], df_user], axis=0)\n",
    "\n",
    "X = df_combined.values\n",
    "y = df_pour_reseau['note'].values"
   ]
  },
  {
   "cell_type": "markdown",
   "metadata": {},
   "source": [
    "On convertit les user_id, films, directeurs, titres en entier\n"
   ]
  },
  {
   "cell_type": "code",
   "execution_count": 33,
   "metadata": {},
   "outputs": [],
   "source": [
    "# On s'occupe des user_id\n",
    "user_id_encoder = LabelEncoder()\n",
    "X[:, 0] = user_id_encoder.fit_transform(X[:, 0])\n",
    "\n",
    "# On s'occupe des films\n",
    "film_encoder = LabelEncoder()\n",
    "X[:, 1] = film_encoder.fit_transform(X[:, 1])\n",
    "\n",
    "#On s'occupe des directeurs \n",
    "directeur_encoder = LabelEncoder()\n",
    "X[:, 2] = directeur_encoder.fit_transform(X[:, 2])\n",
    "\n",
    "#On s'occupe des titres \n",
    "titre_encoder = LabelEncoder()\n",
    "X[:, 3] = titre_encoder.fit_transform(X[:, 3])"
   ]
  },
  {
   "cell_type": "code",
   "execution_count": 34,
   "metadata": {},
   "outputs": [
    {
     "name": "stdout",
     "output_type": "stream",
     "text": [
      "(259818, 769)\n",
      "(395, 769)\n"
     ]
    }
   ],
   "source": [
    "X_user = X[-nb_film_non_vu_par_user:]\n",
    "X = X[:-nb_film_non_vu_par_user]\n",
    "\n",
    "print(X.shape)\n",
    "print(X_user.shape)"
   ]
  },
  {
   "cell_type": "markdown",
   "metadata": {},
   "source": [
    "On divise les données en données d'apprentissages et de tests (80% pour l'apprentissage et 20% pour les test)"
   ]
  },
  {
   "cell_type": "code",
   "execution_count": 35,
   "metadata": {},
   "outputs": [],
   "source": [
    "X_train, X_test, y_train, y_test = train_test_split(X, y, test_size=0.2,random_state=42)"
   ]
  },
  {
   "cell_type": "code",
   "execution_count": 36,
   "metadata": {},
   "outputs": [],
   "source": [
    "X_train = X_train.astype(np.int64)\n",
    "X_test = X_test.astype(np.int64)\n",
    "X_user = X_user.astype(np.int64)"
   ]
  },
  {
   "cell_type": "markdown",
   "metadata": {},
   "source": [
    "On convertit les ensembles de données en tensors PyTorch"
   ]
  },
  {
   "cell_type": "code",
   "execution_count": 37,
   "metadata": {},
   "outputs": [
    {
     "name": "stdout",
     "output_type": "stream",
     "text": [
      "torch.LongTensor\n",
      "torch.LongTensor\n",
      "torch.LongTensor\n",
      "torch.LongTensor\n",
      "torch.LongTensor\n"
     ]
    },
    {
     "data": {
      "text/plain": [
       "torch.Size([51964])"
      ]
     },
     "execution_count": 37,
     "metadata": {},
     "output_type": "execute_result"
    }
   ],
   "source": [
    "X_train = torch.tensor(X_train)\n",
    "y_train = torch.tensor(y_train)\n",
    "X_test = torch.tensor(X_test)\n",
    "y_test = torch.tensor(y_test)\n",
    "X_user = torch.tensor(X_user)\n",
    "print(X_test.type())\n",
    "print(X_train.type())\n",
    "print(y_train.type())\n",
    "print(y_test.type())\n",
    "print(X_user.type())\n",
    "y_test.shape"
   ]
  },
  {
   "cell_type": "markdown",
   "metadata": {},
   "source": [
    "On convertit les données d'entrées et de sorties du réseau en FloatTensor \n"
   ]
  },
  {
   "cell_type": "code",
   "execution_count": 38,
   "metadata": {},
   "outputs": [
    {
     "name": "stdout",
     "output_type": "stream",
     "text": [
      "tensor([1., 2., 3., 4., 5.])\n",
      "tensor([1., 2., 3., 4., 5.])\n"
     ]
    }
   ],
   "source": [
    "X_train = X_train.float()\n",
    "X_test = X_test.float()\n",
    "y_train = y_train.float()\n",
    "y_test = y_test.float()\n",
    "X_user = X_user.float()\n",
    "\n",
    "print(y_train.unique())\n",
    "print(y_test.unique())"
   ]
  },
  {
   "cell_type": "markdown",
   "metadata": {
    "tags": []
   },
   "source": [
    "## Détermination des hyperparamètres"
   ]
  },
  {
   "cell_type": "markdown",
   "metadata": {},
   "source": [
    "On veut faire une régression"
   ]
  },
  {
   "cell_type": "code",
   "execution_count": 39,
   "metadata": {},
   "outputs": [],
   "source": [
    "def pytorch_fit(model, X,Y, X_test, y_test, criterion, optimizer, n_epochs):\n",
    "    \n",
    "    torch.cuda.empty_cache()# Libération de la mémoire GPU\n",
    "    train_loss = []\n",
    "    test_loss = []\n",
    "    \n",
    "    # on switche le modèle en mode entrainement (important pour le dropout uniquement)\n",
    "    model.train()\n",
    "\n",
    "    # on parcourt \"n_epochs\" fois l'ensemble des donnees\n",
    "    for i in range(n_epochs):\n",
    "\n",
    "        # le \"dataloader\" va fournir des mini-batches de 32 exemples a la fois.\n",
    "        \n",
    "        dataloader = torch.utils.data.DataLoader(list(zip(X,Y)), batch_size=32, shuffle=True)\n",
    "\n",
    "        for inputs,labels in dataloader:\n",
    "            \n",
    "            # Remise à zéro des gradients\n",
    "            optimizer.zero_grad()\n",
    "\n",
    "            # Calcul de la prédiction (output)\n",
    "            outputs = model(inputs)\n",
    "\n",
    "            # Calcul du coût (de la perte)\n",
    "            loss = criterion(outputs, labels)\n",
    "\n",
    "            # Calcul des gradients\n",
    "            loss.backward()\n",
    "\n",
    "            # Mise à jour des poids avec l'optimiseur\n",
    "            optimizer.step()\n",
    "            \n",
    "            # Libération de la mémoire GPU\n",
    "            torch.cuda.empty_cache()\n",
    "        \n",
    "        model.eval()\n",
    "        \n",
    "        # Calcul du cout + enregistrement pour la visualisation\n",
    "        \n",
    "        #J'ai un dépassement de mémoire, je calcule donc cout_train\n",
    "        #uniquement sur un sous ensemble des données d'entrainements\n",
    "        \n",
    "        indice_ss_ensemble = np.random.choice(len(X), size=10000, replace=False)\n",
    "        \n",
    "        cout_train = criterion(model(X[indice_ss_ensemble]), Y[indice_ss_ensemble]).item()\n",
    "        cout_test = criterion(model(X_test), y_test).item()\n",
    "        train_loss.append(cout_train)\n",
    "        test_loss.append(cout_test)\n",
    "\n",
    "    # Visualiser le cout pour le trainset et le testset\n",
    "    \n",
    "    plt.plot(range(n_epochs), train_loss, label=\"train\")\n",
    "    plt.plot(range(n_epochs), test_loss , label=\"test\")\n",
    "    plt.xlabel('epochs')\n",
    "    plt.ylabel('cost')\n",
    "    plt.legend()\n",
    "    plt.title('Graphique')\n",
    "    plt.grid(True)\n",
    "    plt.show()\n",
    "    \n",
    "    # on switche le modèle en mode prédiction\n",
    "    model.eval()"
   ]
  },
  {
   "cell_type": "markdown",
   "metadata": {},
   "source": [
    "**Evaluation du modele**"
   ]
  },
  {
   "cell_type": "code",
   "execution_count": 40,
   "metadata": {},
   "outputs": [],
   "source": [
    "def RMSE(model, X, Y):\n",
    "    predictions = model(X)\n",
    "    rmse = torch.sqrt(F.mse_loss(predictions, Y.view(-1, 1))) #On redimensionne Y pour qu'il ait la meme forme que la prédiction\n",
    "    return rmse.item()\n",
    "\n",
    "def MAE(model, X, Y):\n",
    "    predictions = model(X)\n",
    "    mae = F.l1_loss(predictions, Y.view(-1, 1)) #On redimensionne Y pour qu'il ait la meme forme que la prédiction\n",
    "    return mae.item()\n",
    "\n",
    "fonction_de_cout_regression = MSELoss()"
   ]
  },
  {
   "cell_type": "markdown",
   "metadata": {},
   "source": [
    "lr = taux d'apprentissage (crucial dans l'entrainement des réseaux)\n",
    "\n",
    "Le taux d'apprentissage contrôle la taille des pas que notre algorithme d'optimisation prend lors de la mise à jour des poids du modèle\n",
    "Un taux d'apprentissage trop élevé peut entraîner une divergence du modèle\n",
    "Un taux d'apprentissage trop faible peut entraîner une convergence lente\n",
    "\n",
    "n_epochs = nombre d'époques \n",
    "Le nombre d'époques spécifie combien de fois l'ensemble d'entraînement complet est utilisé pour entraîner le modèle.\n",
    "Trop peu d'époques peuvent entraîner un sous-apprentissage, tandis que trop d'époques peuvent entraîner un sur-apprentissage."
   ]
  },
  {
   "cell_type": "code",
   "execution_count": 41,
   "metadata": {},
   "outputs": [],
   "source": [
    "# Création d'un dictionnaire pour stocker les réseaux de neurones avec les valeurs de taux d'apprentissage correspondantes\n",
    "networks = {}"
   ]
  },
  {
   "cell_type": "code",
   "execution_count": null,
   "metadata": {},
   "outputs": [
    {
     "name": "stdout",
     "output_type": "stream",
     "text": [
      "Taux d'apprentissage =  0.01\n",
      "--Entrainement de net1 --\n"
     ]
    },
    {
     "name": "stderr",
     "output_type": "stream",
     "text": [
      "/Users/leahkalousdian/Library/Python/3.8/lib/python/site-packages/torch/nn/modules/loss.py:535: UserWarning: Using a target size (torch.Size([32])) that is different to the input size (torch.Size([32, 1])). This will likely lead to incorrect results due to broadcasting. Please ensure they have the same size.\n",
      "  return F.mse_loss(input, target, reduction=self.reduction)\n",
      "/Users/leahkalousdian/Library/Python/3.8/lib/python/site-packages/torch/nn/modules/loss.py:535: UserWarning: Using a target size (torch.Size([14])) that is different to the input size (torch.Size([14, 1])). This will likely lead to incorrect results due to broadcasting. Please ensure they have the same size.\n",
      "  return F.mse_loss(input, target, reduction=self.reduction)\n",
      "/Users/leahkalousdian/Library/Python/3.8/lib/python/site-packages/torch/nn/modules/loss.py:535: UserWarning: Using a target size (torch.Size([10000])) that is different to the input size (torch.Size([10000, 1])). This will likely lead to incorrect results due to broadcasting. Please ensure they have the same size.\n",
      "  return F.mse_loss(input, target, reduction=self.reduction)\n",
      "/Users/leahkalousdian/Library/Python/3.8/lib/python/site-packages/torch/nn/modules/loss.py:535: UserWarning: Using a target size (torch.Size([51964])) that is different to the input size (torch.Size([51964, 1])). This will likely lead to incorrect results due to broadcasting. Please ensure they have the same size.\n",
      "  return F.mse_loss(input, target, reduction=self.reduction)\n"
     ]
    }
   ],
   "source": [
    "for alpha in [0.01,0.001,0.0001]:\n",
    "    \n",
    "    # regression linéaire\n",
    "    net1 = nn.Sequential(\n",
    "        nn.Linear(in_features=769, out_features=1),\n",
    "        nn.ReLU(),\n",
    "    )\n",
    "\n",
    "    # réseau à trois couches avec ReLU pour chaque couche\n",
    "    net2 = nn.Sequential(\n",
    "        nn.Linear(in_features=769, out_features=20),\n",
    "        nn.ReLU(),\n",
    "        nn.Linear(in_features=20, out_features=10),\n",
    "        nn.ReLU(),\n",
    "        nn.Linear(in_features=10, out_features=1), \n",
    "        nn.ReLU(),\n",
    "    )\n",
    "    \n",
    "    print(\"Taux d'apprentissage = \",alpha)\n",
    "    \n",
    "    print('--Entrainement de net1 --')\n",
    "\n",
    "    optimizer1 = Adam(net1.parameters(),lr=alpha)\n",
    "    pytorch_fit(net1, X_train, y_train, X_test, y_test, fonction_de_cout_regression, optimizer1, n_epochs=50)\n",
    "\n",
    "    print('--Entrainement de net2 --')\n",
    "\n",
    "    optimizer2 = Adam(net2.parameters(),lr=alpha)\n",
    "    pytorch_fit(net2, X_train, y_train, X_test, y_test, fonction_de_cout_regression, optimizer2, n_epochs=50)\n",
    "\n",
    "    print(\"-- Fin de l'entrainement--\")\n",
    "\n",
    "    print('RMSE de net1 sur les donnees test:', RMSE(net1,X_test,y_test))\n",
    "    print('MAE de net1 sur les donnees test:', MAE(net1,X_test,y_test))\n",
    "    \n",
    "    print('RMSE de net2 sur les donnees test:', RMSE(net2,X_test,y_test))\n",
    "    print('MAE de net2 sur les donnees test:', MAE(net2,X_test,y_test))\n",
    "    \n",
    "    networks[alpha] = (net1, net2)"
   ]
  },
  {
   "cell_type": "markdown",
   "metadata": {},
   "source": [
    "Pour l'instant, le réseau donnant les meilleurs performances est le réseau net2 avec lr=0.0001 et n_epochs=50  \n",
    "On essaye d'ajouter du dropout pour voir si on obtient de meilleures performances.  \n",
    "On désactive aléatoirement un certain pourcentage des neurones \n",
    "lors de chaque itération de l'entraînement pour prévenir le surapprentissage."
   ]
  },
  {
   "cell_type": "code",
   "execution_count": null,
   "metadata": {},
   "outputs": [],
   "source": [
    "alpha = 0.0001 #le taux ayant donné les meilleures performances précédemment "
   ]
  },
  {
   "cell_type": "code",
   "execution_count": null,
   "metadata": {},
   "outputs": [],
   "source": [
    "net3 = nn.Sequential(\n",
    "    nn.Linear(in_features=769, out_features=1),\n",
    "    nn.ReLU(),\n",
    "    nn.Dropout(p=0.2)  \n",
    ")\n",
    "\n",
    "net4 = nn.Sequential(\n",
    "    nn.Linear(in_features=769, out_features=20),\n",
    "    nn.ReLU(),\n",
    "    nn.Dropout(p=0.2),  \n",
    "    nn.Linear(in_features=20, out_features=10),\n",
    "    nn.ReLU(),\n",
    "    nn.Dropout(p=0.2), \n",
    "    nn.Linear(in_features=10, out_features=1), \n",
    "    nn.ReLU(),\n",
    ")"
   ]
  },
  {
   "cell_type": "code",
   "execution_count": null,
   "metadata": {},
   "outputs": [],
   "source": [
    "print(\"Taux d'apprentissage = \",alpha)\n",
    "\n",
    "print('--Entrainement de net3 --')\n",
    "\n",
    "optimizer3 = Adam(net3.parameters(),lr=alpha)\n",
    "pytorch_fit(net3, X_train, Y_train, X_test, Y_test, fonction_de_cout_regression, optimizer3, n_epochs=50)\n",
    "\n",
    "print('--Entrainement de net4 --')\n",
    "\n",
    "optimizer4 = Adam(net4.parameters(),lr=alpha)\n",
    "pytorch_fit(net4, X_train, Y_train, X_test, Y_test, fonction_de_cout_regression, optimizer4, n_epochs=50)\n",
    "\n",
    "print(\"-- Fin de l'entrainement--\")\n",
    "\n",
    "print('RMSE de net3 sur les donnees test:', RMSE(net3,X_test,Y_test))\n",
    "print('MAE de net3 sur les donnees test:', MAE(net3,X_test,Y_test))\n",
    "\n",
    "print('RMSE de net4 sur les donnees test:', RMSE(net4,X_test,Y_test))\n",
    "print('MAE de net4 sur les donnees test:', MAE(net4,X_test,Y_test))"
   ]
  },
  {
   "cell_type": "markdown",
   "metadata": {},
   "source": [
    "Le fait d'ajouter du dropout sur les réseaux n'a pas l'air d'avoir un impact significatif sur les performances.   \n",
    "Au vu des résulats obtenus, on a donc décidé d'utiliser le réseau net2 avec lr=0.0001 et n_epochs=50. \n"
   ]
  },
  {
   "cell_type": "markdown",
   "metadata": {},
   "source": [
    "## Les 10 meilleurs recommandations"
   ]
  },
  {
   "cell_type": "markdown",
   "metadata": {},
   "source": [
    "On veut déterminer les 10 meilleures recommandations pour l'user_id = '1380819'.  \n",
    "On a X_user qui va servir d'entrée au réseau de neurones "
   ]
  },
  {
   "cell_type": "markdown",
   "metadata": {},
   "source": [
    "On va prédire les notes pour tout les films que l'utilisateur n'a pas vu.  \n",
    "On va stocker dans la liste recommandation_possible des tuples de la forme (titre du film, note)"
   ]
  },
  {
   "cell_type": "code",
   "execution_count": null,
   "metadata": {},
   "outputs": [],
   "source": [
    "reseau = networks[0.0001][1]\n",
    "\n",
    "recommandation_possible = [] \n",
    "\n",
    "reseau.eval()\n",
    "\n",
    "for i in range(X_user.size(0)):\n",
    "    input_data = X_user[i, :].unsqueeze(0)  # Nous devons ajouter une dimension pour obtenir la forme (1, features)\n",
    "    prediction = net2(input_data)\n",
    "    recommandation_possible.append( (df_user.iloc[i][3],prediction.item()) )\n",
    "\n",
    "recommandation_possible.sort(key=lambda x: x[1], reverse=True)\n",
    "    \n",
    "if (len(recommandation_possible) < 10) : #L'utilisateur n'a pas noté moins de 10 films, il lui reste donc moins de 10 films à regarder alors on lui recommande tout les films qu'il n'a pas vu\n",
    "\n",
    "    films_recommander = [titre for titre,note in recommandation_possible]\n",
    "    print(\"L'utilisateur n'a pas noté moins de 10 films\")\n",
    "    print(\"Ainsi les meilleurs recommendation sont les films qu'il n'a pas vu\")\n",
    "    print(films_recommander)\n",
    "\n",
    "else:\n",
    "    films_recommander = [titre for titre,note in recommandation_possible[:10]]\n",
    "    print(\"Les 10 meilleures recommandations sont : \",films_recommander)  "
   ]
  }
 ],
 "metadata": {
  "kernelspec": {
   "display_name": "Python 3 (ipykernel)",
   "language": "python",
   "name": "python3"
  },
  "language_info": {
   "codemirror_mode": {
    "name": "ipython",
    "version": 3
   },
   "file_extension": ".py",
   "mimetype": "text/x-python",
   "name": "python",
   "nbconvert_exporter": "python",
   "pygments_lexer": "ipython3",
   "version": "3.8.0"
  }
 },
 "nbformat": 4,
 "nbformat_minor": 4
}
